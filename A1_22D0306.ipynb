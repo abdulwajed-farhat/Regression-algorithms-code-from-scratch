{
 "cells": [
  {
   "cell_type": "markdown",
   "id": "388313a4",
   "metadata": {},
   "source": [
    "# Assignment 1 for the course EE-769\n",
    "## Roll#: 22D0306\n",
    "### link for recording: https://iitbombay1-my.sharepoint.com/:v:/g/personal/22d0306_iitbombay1_onmicrosoft_com/EVumcQsL4yxAks59LPFhxfQBegf0xF_SfTfE0A4iT5YkJA?e=kpSS9i"
   ]
  },
  {
   "cell_type": "markdown",
   "id": "9f72978a",
   "metadata": {},
   "source": [
    "### Importing the required libraires "
   ]
  },
  {
   "cell_type": "code",
   "execution_count": 2,
   "id": "85625091",
   "metadata": {},
   "outputs": [],
   "source": [
    "import numpy as np \n",
    "import random \n",
    "import matplotlib.pyplot as plt"
   ]
  },
  {
   "cell_type": "markdown",
   "id": "64609237",
   "metadata": {},
   "source": [
    "## 1. Write a function to generate a data matrix X. \n",
    "Inputs: Number of samples, feature dimension. \n",
    "Output: Data matrix X. [1]"
   ]
  },
  {
   "cell_type": "markdown",
   "id": "e0839c4e",
   "metadata": {},
   "source": [
    "###  This function generates a matrix of integer random numbers between 1 to 1000. The maximum number of samples can be generated from this function is 1000 while you can change the upper limit by modifying the function. \n",
    "-The sample in the function refers to the number of samples (N) and the dimension refers to the dimension of feature (D).\n",
    "the output of this function will be a matrix of X(NxD)"
   ]
  },
  {
   "cell_type": "code",
   "execution_count": 3,
   "id": "6d4ab0ff",
   "metadata": {},
   "outputs": [],
   "source": [
    " \n",
    "def generate(sample,dimension):\n",
    "    data_X=np.random.randn(sample,dimension)\n",
    "    return (data_X)\n"
   ]
  },
  {
   "cell_type": "code",
   "execution_count": 4,
   "id": "4669a8e6",
   "metadata": {},
   "outputs": [
    {
     "name": "stdout",
     "output_type": "stream",
     "text": [
      "[[ 1.21807867e+00 -8.78136927e-01 -1.73506649e+00  1.58969580e+00\n",
      "   9.01354867e-01]\n",
      " [-3.58003166e-01 -9.85039033e-01  2.18461679e-02  1.17450208e+00\n",
      "   7.05225136e-01]\n",
      " [-7.49360558e-02  1.27445294e-01  1.00866665e+00 -1.73891551e-01\n",
      "  -1.78967621e-01]\n",
      " ...\n",
      " [ 5.77325565e-01 -6.53682895e-02  6.39998637e-01  2.07773175e+00\n",
      "   4.51903629e-02]\n",
      " [-1.47673367e+00  7.95700822e-01 -1.65337040e-04 -8.17964748e-01\n",
      "   2.28874291e+00]\n",
      " [-2.31590859e-01 -7.57168876e-01 -1.02650958e+00 -4.39289377e-01\n",
      "   1.91993568e+00]] (500, 5)\n"
     ]
    }
   ],
   "source": [
    "data_X=generate(500,5)\n",
    "print (data_X,data_X.shape)"
   ]
  },
  {
   "cell_type": "markdown",
   "id": "514912aa",
   "metadata": {},
   "source": [
    "# 2. Write a function to generate dependent variable column t.  [1]\n",
    "a) Inputs: Data matrix X, weight vector for each column, bias w0, noise variance\n",
    "\n",
    "b) Output: Target vector t"
   ]
  },
  {
   "cell_type": "markdown",
   "id": "654c67a9",
   "metadata": {},
   "source": [
    "### a. Generating the inputs\n",
    "The function below takes the number of sample and dimension as input and gerenates the random numbers. According to the number of samples and dimension we can specify if we want to get a matrix of random number or a singel dimensional vector. "
   ]
  },
  {
   "cell_type": "code",
   "execution_count": 4,
   "id": "e020cc66",
   "metadata": {},
   "outputs": [],
   "source": [
    "def gen_input(sample,dimension):\n",
    "    weight1=np.random.rand(1,dimension)\n",
    "    w0_bias=np.random.rand(1,1)\n",
    "    v_noise=np.random.randn(sample,1)\n",
    "    #for normalizing the noise value among different methods I have chosen to divide all the values by\n",
    "    #the maximum value so the new values of v will me v/max(v)\n",
    "    v_noise=v_noise/max(v_noise)\n",
    "    data=np.random.randn(sample, dimension)\n",
    "    return (weight1,w0_bias,v_noise,data)"
   ]
  },
  {
   "cell_type": "code",
   "execution_count": 5,
   "id": "a90ac949",
   "metadata": {},
   "outputs": [
    {
     "name": "stdout",
     "output_type": "stream",
     "text": [
      "Weight Values\n",
      " (1, 6) [[0.64539423 0.77605604 0.11902847 0.07519482 0.74512487 0.03706018]] \n",
      " Bias value:\n",
      " (1, 1) [[0.59134986]] \n",
      " Noise values :\n",
      " (1000, 1) [-0.41653712 -0.0567978   0.11092214 -0.05599268 -0.28324961] \n",
      " X matrix:\n",
      " (1000, 6) [[-0.82293785 -0.15201303  0.38640492 -0.10122028]\n",
      " [ 0.71297086 -0.85944296 -1.07358667  0.31189588]\n",
      " [-0.09413607  0.88828715  0.91039804  0.27836948]\n",
      " [-0.93821492  0.81505626  0.51629904 -1.05969622]\n",
      " [ 0.2868607   0.98841409 -1.36241645 -0.76484339]]\n"
     ]
    }
   ],
   "source": [
    "w1,bias,noise,X=gen_input(1000,6)\n",
    "print (\"Weight Values\\n\",w1.shape,\n",
    "       w1,\"\\n\",\"Bias value:\\n\",bias.shape,\n",
    "       bias,\"\\n\",\"Noise values :\\n\",noise.shape,\n",
    "       noise[0:5,0],\"\\n\",\"X matrix:\\n\",X.shape,\n",
    "       X[0:5,0:4])"
   ]
  },
  {
   "cell_type": "markdown",
   "id": "94db128f",
   "metadata": {},
   "source": [
    "### b.Function for generating the dependent value t\n",
    "The function below is for generating the target values using the inputs data, weight values, bias value and noise values. "
   ]
  },
  {
   "cell_type": "code",
   "execution_count": 6,
   "id": "89131ed2",
   "metadata": {},
   "outputs": [],
   "source": [
    "def gen_dep(data,weight,bias,noise):\n",
    "    return ((bias+data.dot(weight.T)+noise))          "
   ]
  },
  {
   "cell_type": "code",
   "execution_count": 7,
   "id": "d21b8378",
   "metadata": {},
   "outputs": [
    {
     "name": "stdout",
     "output_type": "stream",
     "text": [
      "(1000, 1) [0.44075174 1.22141974 1.13873639 0.31221324 0.77679901 0.01825442\n",
      " 0.3735528  1.77210285 0.6439075  0.24243874]\n"
     ]
    }
   ],
   "source": [
    "target=gen_dep(X,w1,bias,noise)\n",
    "print (target.shape,target[0:10,0])"
   ]
  },
  {
   "cell_type": "markdown",
   "id": "dbe9a756",
   "metadata": {},
   "source": [
    "# 3. Write a function to compute a linear regression estimate. \n",
    "a) input: data matrix X and weight vector w\n",
    "\n",
    "b) Output: y\n",
    "\n",
    "The function below only gets weight, data and bias as inputs and calculate the predicted values. "
   ]
  },
  {
   "cell_type": "code",
   "execution_count": 8,
   "id": "bec7beaa",
   "metadata": {},
   "outputs": [],
   "source": [
    "def Linear_prediction(data,weight,bias):\n",
    "    y=bias+weight.dot(data.T)\n",
    "    return (y.T)\n",
    "    "
   ]
  },
  {
   "cell_type": "code",
   "execution_count": 9,
   "id": "5c39f057",
   "metadata": {},
   "outputs": [
    {
     "name": "stdout",
     "output_type": "stream",
     "text": [
      "(1000, 1) [0.85728886 1.27821754 1.02781425 0.36820592 1.06004862 0.04449287\n",
      " 0.2875385  1.46779009 0.5075067  0.39985779]\n"
     ]
    }
   ],
   "source": [
    "y=Linear_prediction(X,w1,bias)\n",
    "print (y.shape,y[0:10,0])"
   ]
  },
  {
   "cell_type": "markdown",
   "id": "16872dab",
   "metadata": {},
   "source": [
    "# 4. Write a function to compute the mean square error of two vectors y and t. \n",
    "\n",
    "Mean square error of predicted and observed values are calculated as: (t-y)^2/N, where \"t\" is the observed or targeted values and \"y\" is the predicted values and \"N\" is the lenght of values. Through out this assignment we will be using the equation mentioned to compute the MSE values. "
   ]
  },
  {
   "cell_type": "code",
   "execution_count": 10,
   "id": "b47b8dec",
   "metadata": {},
   "outputs": [],
   "source": [
    "def MSE (y,t):\n",
    "    mean_sq_error=np.sum(np.square(t-y))/t.shape[0]\n",
    "    return (mean_sq_error)\n",
    "        "
   ]
  },
  {
   "cell_type": "code",
   "execution_count": 11,
   "id": "836dc5a9",
   "metadata": {},
   "outputs": [
    {
     "name": "stdout",
     "output_type": "stream",
     "text": [
      "0.08187484305697595\n"
     ]
    }
   ],
   "source": [
    "me=MSE(y,target)\n",
    "print (me)"
   ]
  },
  {
   "cell_type": "markdown",
   "id": "ecaf3c9a",
   "metadata": {},
   "source": [
    "# 5. Write a function to estimate the weights of linear regression using pseudo-inverse, assuming L2 regularization:\n",
    "a) input: X, t, and lambda\n",
    "b) output: w, MSE, y\n"
   ]
  },
  {
   "cell_type": "markdown",
   "id": "668b13f2",
   "metadata": {},
   "source": [
    "### Function description:\n",
    "The function below calculates the weight of a regression problem using pseudo inverse assuming L2 normalization, using the weight caluculated in the first line then the function calculates the predicted value and finally the mse is calculated between the predicted and targeted values. \n",
    "\n",
    "***First we will try the function without including the bias (w0) value and then we will try the function including the w0 values and observe the changes. "
   ]
  },
  {
   "cell_type": "code",
   "execution_count": 12,
   "id": "18509975",
   "metadata": {},
   "outputs": [],
   "source": [
    "def Pinv_w_est (D,t,lamb):\n",
    "    D_pinv=np.linalg.pinv(lamb*np.identity(D.shape[1])+(D.T@D))\n",
    "    weight=(D_pinv.dot(D.T@t)).T\n",
    "    predicted_y=(weight.dot(D.T)).T\n",
    "    mean_sq_error=MSE(predicted_y,t)\n",
    "    return (weight,predicted_y,mean_sq_error)\n"
   ]
  },
  {
   "cell_type": "code",
   "execution_count": 13,
   "id": "699323fb",
   "metadata": {},
   "outputs": [
    {
     "name": "stdout",
     "output_type": "stream",
     "text": [
      "The weight values:\n",
      " [[0.63470519 0.77651895 0.15855659 0.08653736 0.75580214 0.04548366]] \n",
      " The predicted values\n",
      " [[ 0.30597058]\n",
      " [ 0.65703126]\n",
      " [ 0.48934734]\n",
      " [-0.21680362]\n",
      " [ 0.41066825]] \n",
      " The Mean square error\n",
      " 0.42853197322247266\n"
     ]
    }
   ],
   "source": [
    "#Finding the weights without bias value (w0).\n",
    "w,y,mse=Pinv_w_est (X,target,0.01)\n",
    "print(\"The weight values:\\n\",w,\"\\n\",\n",
    "      \"The predicted values\\n\",y[0:5,:],\"\\n\",\n",
    "      \"The Mean square error\\n\",mse)\n",
    "    "
   ]
  },
  {
   "cell_type": "markdown",
   "id": "7be89eda",
   "metadata": {},
   "source": [
    "### Including W0\n",
    "For finding the w0  using pseudo inverse we can add a new column of all ones and then use it for calculating the weight values, the first value of weight vector will w0."
   ]
  },
  {
   "cell_type": "code",
   "execution_count": 14,
   "id": "e58149d6",
   "metadata": {},
   "outputs": [],
   "source": [
    "# Including the bias value\n",
    "XX=np.concatenate([np.ones([X.shape[0],1]),X],axis=1)"
   ]
  },
  {
   "cell_type": "code",
   "execution_count": 15,
   "id": "42f85e17",
   "metadata": {},
   "outputs": [
    {
     "name": "stdout",
     "output_type": "stream",
     "text": [
      "The weight values:\n",
      " [[0.59027889 0.64656268 0.77985994 0.13890067 0.06848194 0.75650669\n",
      "  0.02938024]] \n",
      " The predicted values\n",
      " [[0.87160234]\n",
      " [1.26362225]\n",
      " [1.023639  ]\n",
      " [0.39251001]\n",
      " [1.02572729]\n",
      " [0.0235856 ]\n",
      " [0.294102  ]\n",
      " [1.43900522]] \n",
      " The Mean square error\n",
      " 0.08120413248579261\n"
     ]
    }
   ],
   "source": [
    "w_w0,y,mse=Pinv_w_est (XX,target,0.01)\n",
    "print(\"The weight values:\\n\",w_w0,\"\\n\",\n",
    "      \"The predicted values\\n\",y[0:8,:],\"\\n\",\n",
    "      \"The Mean square error\\n\",mse)"
   ]
  },
  {
   "cell_type": "markdown",
   "id": "7af626b7",
   "metadata": {},
   "source": [
    "# 6. Write a function to compute the gradient of MSE with respect to its weight vector. \n",
    "\n",
    "a) Input: X matrix, t vector, and w vector\n",
    "\n",
    "b) Output: gradient vector\n",
    "\n",
    "The function below take data matrix, target vector and weight values as input and calculates the gradient of MSE respected to weight. The function first calculates the predicted y and calculates the gradient using the equation:MSE=(t-y)^2/N, y=x*w so, MSE=(t-w*x)^2/N, and dMSE/dw=-2*(t-w*x)(x)/N"
   ]
  },
  {
   "cell_type": "code",
   "execution_count": 16,
   "id": "8cc80823",
   "metadata": {},
   "outputs": [],
   "source": [
    "def grad_mse(data_input, target, weight):\n",
    "    y_pred=data_input.dot(weight.T)\n",
    "    gradient=-2*(X.T@(target-y_pred))/target.shape[0]\n",
    "    return (gradient)"
   ]
  },
  {
   "cell_type": "code",
   "execution_count": 17,
   "id": "657249f4",
   "metadata": {},
   "outputs": [
    {
     "data": {
      "text/plain": [
       "array([[-1.26941038e-05],\n",
       "       [-1.55303790e-05],\n",
       "       [-3.17113183e-06],\n",
       "       [-1.73074715e-06],\n",
       "       [-1.51160428e-05],\n",
       "       [-9.09673250e-07]])"
      ]
     },
     "execution_count": 17,
     "metadata": {},
     "output_type": "execute_result"
    }
   ],
   "source": [
    "grad=grad_mse(X, target, w)\n",
    "grad"
   ]
  },
  {
   "cell_type": "markdown",
   "id": "5f543239",
   "metadata": {},
   "source": [
    "# 7. Write a function to compute L2 norm of a vector w passed as a numpy array. Exclude bias w0."
   ]
  },
  {
   "cell_type": "code",
   "execution_count": 18,
   "id": "aa112c50",
   "metadata": {},
   "outputs": [],
   "source": [
    "def l2_nor(weight):\n",
    "    return np.sum(np.square(weight))"
   ]
  },
  {
   "cell_type": "code",
   "execution_count": 19,
   "id": "e2ef3f3f",
   "metadata": {},
   "outputs": [
    {
     "data": {
      "text/plain": [
       "1.6117669046225043"
      ]
     },
     "execution_count": 19,
     "metadata": {},
     "output_type": "execute_result"
    }
   ],
   "source": [
    "l2_nor(w)"
   ]
  },
  {
   "cell_type": "markdown",
   "id": "5947bb76",
   "metadata": {},
   "source": [
    "# 8. Write a function to compute the gradient of L2 norm with respect to the weight vectors. \n",
    "\n",
    "a) Input: X matrix and w vector\n",
    "\n",
    "b) Output: gradient vector, where gradient with respect to w0 is 0.\n",
    "\n",
    "L2 norm= sum(w)^2, dL2/dw=2*sum(w)"
   ]
  },
  {
   "cell_type": "code",
   "execution_count": 20,
   "id": "ed12bda0",
   "metadata": {},
   "outputs": [],
   "source": [
    "def L2_norm_grad(data,weight):\n",
    "    gradient=2*np.sum(weight)\n",
    "    return(gradient)"
   ]
  },
  {
   "cell_type": "code",
   "execution_count": 21,
   "id": "04873f61",
   "metadata": {},
   "outputs": [
    {
     "data": {
      "text/plain": [
       "4.915207785015548"
      ]
     },
     "execution_count": 21,
     "metadata": {},
     "output_type": "execute_result"
    }
   ],
   "source": [
    "L2_norm_grad(X,w)"
   ]
  },
  {
   "cell_type": "markdown",
   "id": "75b286df",
   "metadata": {},
   "source": [
    "# 9. Write a function to compute L1 norm of a vector w passed as a numpy array. Exclude bias w0. [1]"
   ]
  },
  {
   "cell_type": "code",
   "execution_count": 22,
   "id": "4665972d",
   "metadata": {},
   "outputs": [],
   "source": [
    "def cal_L1norm(weight,lambda1):\n",
    "    return(lambda1*np.abs(weight))\n"
   ]
  },
  {
   "cell_type": "code",
   "execution_count": 23,
   "id": "07aa4a5c",
   "metadata": {},
   "outputs": [
    {
     "name": "stdout",
     "output_type": "stream",
     "text": [
      "[[6.34705189e-04 7.76518951e-04 1.58556592e-04 8.65373577e-05\n",
      "  7.55802140e-04 4.54836625e-05]]\n"
     ]
    }
   ],
   "source": [
    "w_norm=cal_L1norm(weight=w,lambda1=0.001)\n",
    "print (w_norm)"
   ]
  },
  {
   "cell_type": "markdown",
   "id": "0fcfe64e",
   "metadata": {},
   "source": [
    "# 10. Write a function to compute the gradient of L1 norm with respect to the weight vectors. [2]\n",
    "\n",
    "a) Input: X matrix and w vector\n",
    "\n",
    "b) Output: gradient vector, where gradient with respect to w0 is 0."
   ]
  },
  {
   "cell_type": "code",
   "execution_count": 24,
   "id": "08373d76",
   "metadata": {},
   "outputs": [],
   "source": [
    "def L1_norm_grad(data,weight):\n",
    "    gradient=np.sign(weight)\n",
    "    return(gradient)"
   ]
  },
  {
   "cell_type": "code",
   "execution_count": 25,
   "id": "2ed114f8",
   "metadata": {},
   "outputs": [
    {
     "data": {
      "text/plain": [
       "array([[1., 1., 1., 1., 1., 1.]])"
      ]
     },
     "execution_count": 25,
     "metadata": {},
     "output_type": "execute_result"
    }
   ],
   "source": [
    "L1_norm_grad(X,w)"
   ]
  },
  {
   "cell_type": "markdown",
   "id": "0de9d0d0",
   "metadata": {},
   "source": [
    "# 11. Write a function for a single update of weights of linear regression using gradient descent. [2]\n",
    "\n",
    "a) Input: X, t, w, eta, lambda 2, lambda 1. Note that the weight of MSE will be 1\n",
    "\n",
    "b) Output: updated weight and updated MSE\n",
    "\n",
    "The function calculates the new weight values using gradient descent for one iteration only. First we will calculate the gradient of a given data, target values and weight, then we will subtract the gradient from the old w values and store it in new w values. After that we will predict the y values using the new w values and calculate the new MSE."
   ]
  },
  {
   "cell_type": "code",
   "execution_count": 26,
   "id": "db05c1b8",
   "metadata": {},
   "outputs": [],
   "source": [
    "def linear_reg(data,t,w,eta,lamb):\n",
    "    grad=grad_mse(data, t, w)\n",
    "    w_new=np.zeros([1,w.shape[1]])\n",
    "    for i in range(w.shape[1]):\n",
    "        w_new[0,i]=w[0,i]-eta*grad[i,0]\n",
    "    ypred=Linear_prediction(data,w_new,bias=0)\n",
    "    mse=MSE(ypred,target)\n",
    "    return (w_new, mse)"
   ]
  },
  {
   "cell_type": "code",
   "execution_count": 27,
   "id": "468b7a1b",
   "metadata": {},
   "outputs": [],
   "source": [
    "w_new,mse_new=linear_reg(X,target,w,0.0001,0.1)"
   ]
  },
  {
   "cell_type": "code",
   "execution_count": 28,
   "id": "7f509846",
   "metadata": {},
   "outputs": [
    {
     "name": "stdout",
     "output_type": "stream",
     "text": [
      "w new values:\n",
      " [[0.63470519 0.77651895 0.15855659 0.08653736 0.75580214 0.04548366]] \n",
      "\n",
      " MSE new values:\n",
      " 0.42853197322240816\n"
     ]
    }
   ],
   "source": [
    "print(\"w new values:\\n\",w_new,\"\\n\\n\",\"MSE new values:\\n\",mse_new)"
   ]
  },
  {
   "cell_type": "markdown",
   "id": "d69c11f1",
   "metadata": {},
   "source": [
    "# 12. Write a function to estimate the weights of linear regression using gradient descent. [3]\n",
    "\n",
    "a) Inputs: X, t, lambda2 (default 0), lambda1 (default 0), eta, max_iter, min_change_NRMSE\n",
    "\n",
    "b) Output: Final w, final RMSE normalized with respect to variance of t.\n",
    "\n",
    "The function is same as question 11 but with some more parameters as inputs. "
   ]
  },
  {
   "cell_type": "code",
   "execution_count": 29,
   "id": "78e49653",
   "metadata": {},
   "outputs": [],
   "source": [
    "def linear_reg_w(data,t,eta, max_iter, min_change_NRMSE,lam2=0, lam1=0):\n",
    "    n, d = data.shape\n",
    "    weight = np.ones([d,1])\n",
    "    for i in range(max_iter):\n",
    "        y = np.dot(data, weight)\n",
    "        grad = (-2*(data.T@(t-y))/t.shape[0]) + lam2 * np.square(weight)  + lam1 * np.abs(weight)\n",
    "        weight -= eta * grad\n",
    "        NRMSE = np.sqrt(np.mean(np.square(y - t))) / (np.max(t) - np.min(t))\n",
    "        if NRMSE < min_change_NRMSE:\n",
    "            break\n",
    "    return weight,y, NRMSE"
   ]
  },
  {
   "cell_type": "code",
   "execution_count": 30,
   "id": "d19020f7",
   "metadata": {
    "scrolled": true
   },
   "outputs": [
    {
     "data": {
      "text/plain": [
       "(array([[0.61285184],\n",
       "        [0.74418351],\n",
       "        [0.15628956],\n",
       "        [0.0855384 ],\n",
       "        [0.72608249],\n",
       "        [0.04571396]]),\n",
       " 0.07663635354307573)"
      ]
     },
     "execution_count": 30,
     "metadata": {},
     "output_type": "execute_result"
    }
   ],
   "source": [
    "w,y,NRMSE=linear_reg_w(X,target,lam2=0.1, lam1=0.01,eta=0.001, max_iter=10000, min_change_NRMSE=0.0001)\n",
    "w,NRMSE"
   ]
  },
  {
   "cell_type": "markdown",
   "id": "afea44a4",
   "metadata": {},
   "source": [
    "# 13. Run multiple experiments (with different random seeds) for, plot the results of (box plots), and comment on the trends and potential reasons for the following relations:\n",
    "\n",
    "a) Training and validation NRMSE obtained using pseudo inverse with number of training samples [2]\n",
    "\n",
    "b) Training and validation NRMSE obtained using pseudo inverse with number of variables [2]\n",
    "\n",
    "c) Training and validation NRMSE obtained using pseudo inverse with noise variance [2]\n",
    "\n",
    "d) Training and validation NRMSE obtained using pseudo inverse with w0 [2]\n",
    "\n",
    "e) Training and validation NRMSE obtained using pseudo inverse with lambda2 [2]\n",
    "\n",
    "f) Time taken to solve pseudo inverse with number of samples and number of variables and its breaking points [2]\n",
    "\n",
    "g) Training and validation NRMSE obtained using gradient descent with max_iter [2]\n",
    "\n",
    "h) Training and validation NRMSE obtained using gradient descent with eta [2]\n",
    "\n",
    "i) Time taken to solve gradient descent with number of samples and number of variables and its breaking points [2]\n",
    "\n",
    "j) Time taken to solve gradient descent with number of variables and its breaking point [2]\n",
    "\n",
    "k) Training and validation NRMSE and number of nearly zero weights obtained using gradient descent with lambda2 [2]\n",
    "\n",
    "l) Training and validation NRMSE and number of nearly zero weights obtained using gradient descent with lambda1 [2]\n",
    "\n",
    "m) Training and validation NRMSE for optimal lambda2 with noise variance [2]\n",
    "\n",
    "n) Training and validation NRMSE for optimal lambda1 with noise variance [2]\n",
    "\n",
    "o) Experiment (f) but, this time with number of training samples and number of variables [2]"
   ]
  },
  {
   "cell_type": "code",
   "execution_count": 31,
   "id": "48a2c1f3",
   "metadata": {
    "scrolled": true
   },
   "outputs": [
    {
     "name": "stdout",
     "output_type": "stream",
     "text": [
      "[[0.0237735  0.02977773]\n",
      " [0.08281987 0.13331837]\n",
      " [0.07002175 0.1201246 ]\n",
      " [0.03222216 0.03931113]\n",
      " [0.0321143  0.03397429]]\n"
     ]
    },
    {
     "data": {
      "text/plain": [
       "{'whiskers': [<matplotlib.lines.Line2D at 0x15f3cd491c0>,\n",
       "  <matplotlib.lines.Line2D at 0x15f3cd494c0>,\n",
       "  <matplotlib.lines.Line2D at 0x15f3cd58610>,\n",
       "  <matplotlib.lines.Line2D at 0x15f3cd588e0>],\n",
       " 'caps': [<matplotlib.lines.Line2D at 0x15f3cd49850>,\n",
       "  <matplotlib.lines.Line2D at 0x15f3cd49a60>,\n",
       "  <matplotlib.lines.Line2D at 0x15f3cd58bb0>,\n",
       "  <matplotlib.lines.Line2D at 0x15f3cd58e80>],\n",
       " 'boxes': [<matplotlib.lines.Line2D at 0x15f3cd49040>,\n",
       "  <matplotlib.lines.Line2D at 0x15f3cd58340>],\n",
       " 'medians': [<matplotlib.lines.Line2D at 0x15f3cd49d30>,\n",
       "  <matplotlib.lines.Line2D at 0x15f3cd66190>],\n",
       " 'fliers': [<matplotlib.lines.Line2D at 0x15f3cd58040>,\n",
       "  <matplotlib.lines.Line2D at 0x15f3cd66460>],\n",
       " 'means': []}"
      ]
     },
     "execution_count": 31,
     "metadata": {},
     "output_type": "execute_result"
    },
    {
     "data": {
      "image/png": "[encoded data removed]",
      "text/plain": [
       "<Figure size 432x288 with 1 Axes>"
      ]
     },
     "metadata": {
      "needs_background": "light"
     },
     "output_type": "display_data"
    }
   ],
   "source": [
    "# a) Training and validation NRMSE obtained using pseudo inverse with number of training samples\n",
    "\n",
    "sample=np.array([500,1000,1500,2000,2500])\n",
    "NRMSE=np.zeros([sample.shape[0],2])\n",
    "for i in range(sample.shape[0]):\n",
    "    samp=sample[i]\n",
    "    weight1,w0_bias,v_noise,data=gen_input(samp,dimension=6)\n",
    "    target=gen_dep(data,weight1,w0_bias,v_noise)\n",
    "    \n",
    "    train_tar_set=target[0:np.int32(np.round(0.75*target.shape[0])),:]\n",
    "    val_tar_set=target[np.int32(np.round(0.75*target.shape[0]))+1:np.int32(np.round(0.85*target.shape[0])),:]\n",
    "    train_set=data[0:np.int32(np.round(0.75*data.shape[0])),:]\n",
    "    val_set=data[np.int32(np.round(0.75*data.shape[0]))+1:np.int32(np.round(0.85*data.shape[0])),:]\n",
    "    \n",
    "    weight,predicted_y,mean_sq_error=Pinv_w_est (train_set,train_tar_set,lamb=0)\n",
    "    NRMSE[i,0]=np.sqrt(mean_sq_error)/(np.max(train_tar_set)-np.min(train_tar_set))\n",
    "    \n",
    "    new_y=Linear_prediction(val_set,weight,bias=0)\n",
    "    NRMSE[i,1]=np.sqrt(MSE(new_y,val_tar_set))/(np.max(val_tar_set)-np.min(val_tar_set))\n",
    "    \n",
    "    del weight1,w0_bias,v_noise,data,weight,predicted_y,mean_sq_error\n",
    "print(NRMSE)\n",
    "plt.boxplot(NRMSE)"
   ]
  },
  {
   "cell_type": "markdown",
   "id": "b7180695",
   "metadata": {},
   "source": [
    "### Comments [a]:\n",
    "Number of samples have always been an important factor on accuracy of the model but also sometimes can cause poor accuracy due to presence of outliers. In the present case the accuracy is good when number of samples are 500 but decreases when it increases and again decreases. As we are generating numbers randomly the more number we are generating can increase the outliers but as the number of samples are much more higher then the difference between the numbers also decreases and the number of outliers will decrease. The model fitting is good in case of samples [500,2000,2500] but has overfitting in case of [1000,1500]."
   ]
  },
  {
   "cell_type": "code",
   "execution_count": 32,
   "id": "2f19d965",
   "metadata": {
    "scrolled": true
   },
   "outputs": [
    {
     "name": "stdout",
     "output_type": "stream",
     "text": [
      "[[0.14278325 0.14165757]\n",
      " [0.06960297 0.07159643]\n",
      " [0.08298289 0.10047682]\n",
      " [0.04413481 0.04587982]\n",
      " [0.05713292 0.06513163]]\n"
     ]
    },
    {
     "data": {
      "text/plain": [
       "{'whiskers': [<matplotlib.lines.Line2D at 0x15f3d6a61c0>,\n",
       "  <matplotlib.lines.Line2D at 0x15f3d6a6490>,\n",
       "  <matplotlib.lines.Line2D at 0x15f3d6b45b0>,\n",
       "  <matplotlib.lines.Line2D at 0x15f3d6b4880>],\n",
       " 'caps': [<matplotlib.lines.Line2D at 0x15f3d6a6760>,\n",
       "  <matplotlib.lines.Line2D at 0x15f3d6a6a30>,\n",
       "  <matplotlib.lines.Line2D at 0x15f3d6b4b50>,\n",
       "  <matplotlib.lines.Line2D at 0x15f3d6b4e20>],\n",
       " 'boxes': [<matplotlib.lines.Line2D at 0x15f3d695eb0>,\n",
       "  <matplotlib.lines.Line2D at 0x15f3d6b42e0>],\n",
       " 'medians': [<matplotlib.lines.Line2D at 0x15f3d6a6d00>,\n",
       "  <matplotlib.lines.Line2D at 0x15f3d6c1130>],\n",
       " 'fliers': [<matplotlib.lines.Line2D at 0x15f3d6a6fd0>,\n",
       "  <matplotlib.lines.Line2D at 0x15f3d6c1400>],\n",
       " 'means': []}"
      ]
     },
     "execution_count": 32,
     "metadata": {},
     "output_type": "execute_result"
    },
    {
     "data": {
      "image/png": "[encoded data removed]",
      "text/plain": [
       "<Figure size 432x288 with 1 Axes>"
      ]
     },
     "metadata": {
      "needs_background": "light"
     },
     "output_type": "display_data"
    }
   ],
   "source": [
    "# b) Training and validation NRMSE obtained using pseudo inverse with number of variables [2]\n",
    "Dimension=np.array([2,5,10,15,20])\n",
    "NRMSE=np.zeros([Dimension.shape[0],2])\n",
    "for i in range(Dimension.shape[0]):\n",
    "    \n",
    "    sample=1000\n",
    "    weight1,w0_bias,v_noise,data=gen_input(sample,Dimension[i])\n",
    "    target=gen_dep(data,weight1,w0_bias,v_noise)\n",
    "    \n",
    "    train_tar_set=target[0:np.int32(np.round(0.75*target.shape[0])),:]\n",
    "    val_tar_set=target[np.int32(np.round(0.75*target.shape[0]))+1:np.int32(np.round(0.85*target.shape[0])),:]\n",
    "    train_set=data[0:np.int32(np.round(0.75*data.shape[0])),:]\n",
    "    val_set=data[np.int32(np.round(0.75*data.shape[0]))+1:np.int32(np.round(0.85*data.shape[0])),:]\n",
    "    \n",
    "    # estimation of the weight and prediction for training data\n",
    "    weight,predicted_y,mean_sq_error=Pinv_w_est (train_set,train_tar_set,lamb=0)\n",
    "    NRMSE[i,0]=np.sqrt(mean_sq_error)/(np.max(train_tar_set)-np.min(train_tar_set))\n",
    "    \n",
    "    # estimation of the weight and prediction for validation data\n",
    "    weight2,predicted_y2,mean_sq_error2=Pinv_w_est (val_set,val_tar_set,lamb=0)\n",
    "    NRMSE[i,1]=np.sqrt(mean_sq_error2)/(np.max(val_tar_set)-np.min(val_tar_set))\n",
    "    \n",
    "    \n",
    "    del weight1,w0_bias,v_noise,data,weight,predicted_y,mean_sq_error\n",
    "print(NRMSE)\n",
    "plt.boxplot(NRMSE)"
   ]
  },
  {
   "cell_type": "markdown",
   "id": "07032eca",
   "metadata": {},
   "source": [
    "### Comment [b]:\n",
    "Number of dimensions is also an important factor on accuracy of the model. Here the accuracy increases till some level and again it decreases for a higher number of dimensions. \n"
   ]
  },
  {
   "cell_type": "code",
   "execution_count": 33,
   "id": "03cb3234",
   "metadata": {},
   "outputs": [
    {
     "name": "stdout",
     "output_type": "stream",
     "text": [
      "[[0.06050463 0.07155546]\n",
      " [0.06579229 0.08142298]\n",
      " [0.08666426 0.13186963]\n",
      " [0.0614565  0.06929015]\n",
      " [0.03461024 0.04874586]]\n"
     ]
    },
    {
     "data": {
      "text/plain": [
       "{'whiskers': [<matplotlib.lines.Line2D at 0x15f3d725130>,\n",
       "  <matplotlib.lines.Line2D at 0x15f3d725400>,\n",
       "  <matplotlib.lines.Line2D at 0x15f3d735400>,\n",
       "  <matplotlib.lines.Line2D at 0x15f3d7356d0>],\n",
       " 'caps': [<matplotlib.lines.Line2D at 0x15f3d7255b0>,\n",
       "  <matplotlib.lines.Line2D at 0x15f3d725880>,\n",
       "  <matplotlib.lines.Line2D at 0x15f3d7359a0>,\n",
       "  <matplotlib.lines.Line2D at 0x15f3d735c70>],\n",
       " 'boxes': [<matplotlib.lines.Line2D at 0x15f3d718e20>,\n",
       "  <matplotlib.lines.Line2D at 0x15f3d735130>],\n",
       " 'medians': [<matplotlib.lines.Line2D at 0x15f3d725b50>,\n",
       "  <matplotlib.lines.Line2D at 0x15f3d735f40>],\n",
       " 'fliers': [<matplotlib.lines.Line2D at 0x15f3d725e20>,\n",
       "  <matplotlib.lines.Line2D at 0x15f3d73f250>],\n",
       " 'means': []}"
      ]
     },
     "execution_count": 33,
     "metadata": {},
     "output_type": "execute_result"
    },
    {
     "data": {
      "image/png": "[encoded data removed]",
      "text/plain": [
       "<Figure size 432x288 with 1 Axes>"
      ]
     },
     "metadata": {
      "needs_background": "light"
     },
     "output_type": "display_data"
    }
   ],
   "source": [
    "# c) Training and validation NRMSE obtained using pseudo inverse with noise variance [2]\n",
    "Dimension=np.array([2,5,10,15,20])\n",
    "NRMSE=np.zeros([Dimension.shape[0],2])\n",
    "for i in range(Dimension.shape[0]):\n",
    "    \n",
    "    sample=1000\n",
    "    weight1,w0_bias,v_noise,data=gen_input(sample,Dimension[i])\n",
    "    target=gen_dep(data,weight1,w0_bias,v_noise)\n",
    "    \n",
    "    train_tar_set=target[0:np.int32(np.round(0.75*target.shape[0])),:]\n",
    "    val_tar_set=target[np.int32(np.round(0.75*target.shape[0]))+1:np.int32(np.round(0.85*target.shape[0])),:]\n",
    "    train_set=data[0:np.int32(np.round(0.75*data.shape[0])),:]\n",
    "    val_set=data[np.int32(np.round(0.75*data.shape[0]))+1:np.int32(np.round(0.85*data.shape[0])),:]\n",
    "    \n",
    "    # estimation of the weight and prediction for training data\n",
    "    weight,predicted_y,mean_sq_error=Pinv_w_est (train_set,train_tar_set,lamb=0)\n",
    "    NRMSE[i,0]=np.sqrt(mean_sq_error)/(np.max(train_tar_set)-np.min(train_tar_set))\n",
    "    \n",
    "    # estimation of the weight and prediction for validation data\n",
    "    weight2,predicted_y2,mean_sq_error2=Pinv_w_est (val_set,val_tar_set,lamb=0)\n",
    "    NRMSE[i,1]=np.sqrt(mean_sq_error2)/(np.max(val_tar_set)-np.min(val_tar_set))\n",
    "    \n",
    "    \n",
    "    del weight1,w0_bias,v_noise,data,weight,predicted_y,mean_sq_error\n",
    "print(NRMSE)\n",
    "plt.boxplot(NRMSE)"
   ]
  },
  {
   "cell_type": "code",
   "execution_count": 34,
   "id": "5129d660",
   "metadata": {},
   "outputs": [
    {
     "name": "stdout",
     "output_type": "stream",
     "text": [
      "[[0.01978648 0.02703803]]\n"
     ]
    }
   ],
   "source": [
    "# d) Training and validation NRMSE obtained using pseudo inverse with w0 [2]\n",
    "\n",
    "NRMSE=np.zeros([1,2])\n",
    "    \n",
    "    \n",
    "weight1,w0_bias,v_noise,data=gen_input(sample=1000,dimension=20)\n",
    "\n",
    "# adding a column of all ones to data for calculating the w0:\n",
    "data1=np.concatenate((np.ones([data.shape[0],1]),data),axis=1)\n",
    "\n",
    "#Calculating the target values\n",
    "target=gen_dep(data,weight1,w0_bias,v_noise)\n",
    "\n",
    "#splitting the data into training and validation\n",
    "train_tar_set=target[0:np.int32(np.round(0.75*target.shape[0])),:]\n",
    "val_tar_set=target[np.int32(np.round(0.75*target.shape[0]))+1:np.int32(np.round(0.85*target.shape[0])),:]\n",
    "train_set=data1[0:np.int32(np.round(0.75*data1.shape[0])),:]\n",
    "val_set=data1[np.int32(np.round(0.75*data1.shape[0]))+1:np.int32(np.round(0.85*data1.shape[0])),:]\n",
    "    \n",
    "# estimation of the weight and prediction for training data\n",
    "weight,predicted_y,mean_sq_error=Pinv_w_est (train_set,train_tar_set,lamb=0)\n",
    "NRMSE[0,0]=np.sqrt(mean_sq_error)/(np.max(train_tar_set)-np.min(train_tar_set))\n",
    "    \n",
    "# estimation of the weight and prediction for validation data\n",
    "weight2,predicted_y2,mean_sq_error2=Pinv_w_est (val_set,val_tar_set,lamb=0)\n",
    "NRMSE[0,1]=np.sqrt(mean_sq_error2)/(np.max(val_tar_set)-np.min(val_tar_set))\n",
    "print (NRMSE)\n"
   ]
  },
  {
   "cell_type": "markdown",
   "id": "729bce99",
   "metadata": {},
   "source": [
    "### Comments [d]:\n",
    "Including W0 on weight calculation has a huge impact on accuracy of the model. On previous analysis the NRMSE has never reached to 0.019 for training and 0.027 for validation data even though we have changed the number of samples and dimensions."
   ]
  },
  {
   "cell_type": "code",
   "execution_count": 57,
   "id": "40ba2e10",
   "metadata": {},
   "outputs": [
    {
     "name": "stdout",
     "output_type": "stream",
     "text": [
      "[[0.04573049 0.05401633]]\n"
     ]
    }
   ],
   "source": [
    "# e) Training and validation NRMSE obtained using pseudo inverse with lambda2 [2]\n",
    "NRMSE=np.zeros([1,2])\n",
    "    \n",
    "    \n",
    "weight1,w0_bias,v_noise,data=gen_input(sample=1500,dimension=5)\n",
    "\n",
    "# adding a column of all ones to data for calculating the w0:\n",
    "data1=np.concatenate((np.ones([data.shape[0],1]),data),axis=1)\n",
    "\n",
    "#Calculating the target values\n",
    "target=gen_dep(data,weight1,w0_bias,v_noise)\n",
    "\n",
    "#splitting the data into training and validation\n",
    "train_tar_set=target[0:np.int32(np.round(0.75*target.shape[0])),:]\n",
    "val_tar_set=target[np.int32(np.round(0.75*target.shape[0]))+1:np.int32(np.round(0.85*target.shape[0])),:]\n",
    "train_set=data1[0:np.int32(np.round(0.75*data1.shape[0])),:]\n",
    "val_set=data1[np.int32(np.round(0.75*data1.shape[0]))+1:np.int32(np.round(0.85*data1.shape[0])),:]\n",
    "    \n",
    "# estimation of the weight and prediction for training data\n",
    "weight,predicted_y,mean_sq_error=Pinv_w_est (train_set,train_tar_set,lamb=10)\n",
    "NRMSE[0,0]=np.sqrt(mean_sq_error)/(np.max(train_tar_set)-np.min(train_tar_set))\n",
    "    \n",
    "# estimation of the weight and prediction for validation data\n",
    "weight2,predicted_y2,mean_sq_error2=Pinv_w_est (val_set,val_tar_set,lamb=10)\n",
    "NRMSE[0,1]=np.sqrt(mean_sq_error2)/(np.max(val_tar_set)-np.min(val_tar_set))\n",
    "print (NRMSE)"
   ]
  },
  {
   "cell_type": "markdown",
   "id": "0c3179ad",
   "metadata": {},
   "source": [
    "### Comments [e]:\n",
    "Including Lambda always not cause the increase of accuracy but sometimes can cause an increase to MSE value as in the case shown above. The NRMSE value has increased than the case without Lambda. "
   ]
  },
  {
   "cell_type": "code",
   "execution_count": 36,
   "id": "403737bb",
   "metadata": {},
   "outputs": [
    {
     "name": "stdout",
     "output_type": "stream",
     "text": [
      "[(10, 10, 0.0009980201721191406), (10, 100, 0.05186104774475098), (10, 1000, 0.2184162139892578), (10, 10000, 371.92160415649414), (100, 10, 0.0009975433349609375), (100, 100, 0.05147266387939453), (100, 1000, 0.21442222595214844), (100, 10000, 367.3194601535797), (1000, 10, 0.000997304916381836), (1000, 100, 0.001997232437133789), (1000, 1000, 0.24335241317749023), (1000, 10000, 374.438360452652), (10000, 10, 0.0), (10000, 100, 0.05395793914794922), (10000, 1000, 0.2982017993927002), (10000, 10000, 385.43973994255066)]\n"
     ]
    }
   ],
   "source": [
    "# f) Time taken to solve pseudo inverse with number of samples and number of variables and its breaking points [2]\n",
    "\n",
    "# We have to import the time library to calcukate the time taken by the funtion\n",
    "import time\n",
    "\n",
    "\n",
    "# Generate a range of data sets with varying numbers of samples and variables\n",
    "samples = [10, 100, 1000, 10000]\n",
    "dimension = [10, 100, 1000, 10000]\n",
    "\n",
    "# Initialize an empty list to store the time taken for each calculation\n",
    "time_taken = []\n",
    "\n",
    "# Loop through the data sets and calculate the pseudo inverse\n",
    "for s in samples:\n",
    "    for d in dimension:\n",
    "        weight1,w0_bias,v_noise,data=gen_input(s,d)\n",
    "        target=gen_dep(data,weight1,w0_bias,v_noise)\n",
    "        start_time = time.time()\n",
    "        weight,predicted_y,mean_sq_error=Pinv_w_est (data,target,lamb=0.1)\n",
    "        end_time = time.time()\n",
    "        time_taken.append((s, d, end_time - start_time))\n",
    "\n",
    "# Print the time taken for each calculation\n",
    "print(time_taken)\n",
    "\n",
    "\n",
    "\n"
   ]
  },
  {
   "cell_type": "markdown",
   "id": "cff8018a",
   "metadata": {},
   "source": [
    "### Comments [f]:\n",
    "Time taken to solve a problem using pseudo inverse is affected highly by the number of features and slightly affected by the number of samples. The breaking point for the case above is 10X10000 which takes a computing time of 371 sec. "
   ]
  },
  {
   "cell_type": "code",
   "execution_count": 37,
   "id": "abd9298b",
   "metadata": {},
   "outputs": [
    {
     "data": {
      "text/plain": [
       "{'whiskers': [<matplotlib.lines.Line2D at 0x15f3c4e8460>,\n",
       "  <matplotlib.lines.Line2D at 0x15f3c4e8730>,\n",
       "  <matplotlib.lines.Line2D at 0x15f3c4f3850>,\n",
       "  <matplotlib.lines.Line2D at 0x15f3c4f3b20>,\n",
       "  <matplotlib.lines.Line2D at 0x15f3c503c40>,\n",
       "  <matplotlib.lines.Line2D at 0x15f3c503f10>,\n",
       "  <matplotlib.lines.Line2D at 0x15f3c51b070>,\n",
       "  <matplotlib.lines.Line2D at 0x15f3c51b340>,\n",
       "  <matplotlib.lines.Line2D at 0x15f3c529460>,\n",
       "  <matplotlib.lines.Line2D at 0x15f3c529730>,\n",
       "  <matplotlib.lines.Line2D at 0x15f3c533850>,\n",
       "  <matplotlib.lines.Line2D at 0x15f3c533b20>,\n",
       "  <matplotlib.lines.Line2D at 0x15f3c542c40>,\n",
       "  <matplotlib.lines.Line2D at 0x15f3c542f10>,\n",
       "  <matplotlib.lines.Line2D at 0x15f3c55a070>,\n",
       "  <matplotlib.lines.Line2D at 0x15f3c55a340>,\n",
       "  <matplotlib.lines.Line2D at 0x15f3c567460>,\n",
       "  <matplotlib.lines.Line2D at 0x15f3c567730>,\n",
       "  <matplotlib.lines.Line2D at 0x15f3c575850>,\n",
       "  <matplotlib.lines.Line2D at 0x15f3c575b20>,\n",
       "  <matplotlib.lines.Line2D at 0x15f3c580c40>,\n",
       "  <matplotlib.lines.Line2D at 0x15f3c580f10>,\n",
       "  <matplotlib.lines.Line2D at 0x15f3c59b070>,\n",
       "  <matplotlib.lines.Line2D at 0x15f3c59b340>,\n",
       "  <matplotlib.lines.Line2D at 0x15f3c5a6460>,\n",
       "  <matplotlib.lines.Line2D at 0x15f3c5a6730>,\n",
       "  <matplotlib.lines.Line2D at 0x15f3c5b3850>,\n",
       "  <matplotlib.lines.Line2D at 0x15f3c5b3b20>,\n",
       "  <matplotlib.lines.Line2D at 0x15f3c5c1a30>,\n",
       "  <matplotlib.lines.Line2D at 0x15f3c5c1d00>,\n",
       "  <matplotlib.lines.Line2D at 0x15f3c5cee20>,\n",
       "  <matplotlib.lines.Line2D at 0x15f3c5dc130>],\n",
       " 'caps': [<matplotlib.lines.Line2D at 0x15f3c4e8a00>,\n",
       "  <matplotlib.lines.Line2D at 0x15f3c4e8cd0>,\n",
       "  <matplotlib.lines.Line2D at 0x15f3c4f3df0>,\n",
       "  <matplotlib.lines.Line2D at 0x15f3c503100>,\n",
       "  <matplotlib.lines.Line2D at 0x15f3c50d220>,\n",
       "  <matplotlib.lines.Line2D at 0x15f3c50d4f0>,\n",
       "  <matplotlib.lines.Line2D at 0x15f3c51b610>,\n",
       "  <matplotlib.lines.Line2D at 0x15f3c51b8e0>,\n",
       "  <matplotlib.lines.Line2D at 0x15f3c529a00>,\n",
       "  <matplotlib.lines.Line2D at 0x15f3c529cd0>,\n",
       "  <matplotlib.lines.Line2D at 0x15f3c533df0>,\n",
       "  <matplotlib.lines.Line2D at 0x15f3c542100>,\n",
       "  <matplotlib.lines.Line2D at 0x15f3c54e220>,\n",
       "  <matplotlib.lines.Line2D at 0x15f3c54e4f0>,\n",
       "  <matplotlib.lines.Line2D at 0x15f3c55a610>,\n",
       "  <matplotlib.lines.Line2D at 0x15f3c55a8e0>,\n",
       "  <matplotlib.lines.Line2D at 0x15f3c567a00>,\n",
       "  <matplotlib.lines.Line2D at 0x15f3c567cd0>,\n",
       "  <matplotlib.lines.Line2D at 0x15f3c575df0>,\n",
       "  <matplotlib.lines.Line2D at 0x15f3c580100>,\n",
       "  <matplotlib.lines.Line2D at 0x15f3c58b220>,\n",
       "  <matplotlib.lines.Line2D at 0x15f3c58b4f0>,\n",
       "  <matplotlib.lines.Line2D at 0x15f3c59b610>,\n",
       "  <matplotlib.lines.Line2D at 0x15f3c59b8e0>,\n",
       "  <matplotlib.lines.Line2D at 0x15f3c5a6a00>,\n",
       "  <matplotlib.lines.Line2D at 0x15f3c5a6cd0>,\n",
       "  <matplotlib.lines.Line2D at 0x15f3c5b3df0>,\n",
       "  <matplotlib.lines.Line2D at 0x15f3c5c10a0>,\n",
       "  <matplotlib.lines.Line2D at 0x15f3c5c1fd0>,\n",
       "  <matplotlib.lines.Line2D at 0x15f3c5ce2e0>,\n",
       "  <matplotlib.lines.Line2D at 0x15f3c5dc400>,\n",
       "  <matplotlib.lines.Line2D at 0x15f3c5dc6d0>],\n",
       " 'boxes': [<matplotlib.lines.Line2D at 0x15f3c4e8190>,\n",
       "  <matplotlib.lines.Line2D at 0x15f3c4f3580>,\n",
       "  <matplotlib.lines.Line2D at 0x15f3c503970>,\n",
       "  <matplotlib.lines.Line2D at 0x15f3c50dd60>,\n",
       "  <matplotlib.lines.Line2D at 0x15f3c529190>,\n",
       "  <matplotlib.lines.Line2D at 0x15f3c533580>,\n",
       "  <matplotlib.lines.Line2D at 0x15f3c542970>,\n",
       "  <matplotlib.lines.Line2D at 0x15f3c54ed60>,\n",
       "  <matplotlib.lines.Line2D at 0x15f3c567190>,\n",
       "  <matplotlib.lines.Line2D at 0x15f3c575580>,\n",
       "  <matplotlib.lines.Line2D at 0x15f3c580970>,\n",
       "  <matplotlib.lines.Line2D at 0x15f3c58bd60>,\n",
       "  <matplotlib.lines.Line2D at 0x15f3c5a6190>,\n",
       "  <matplotlib.lines.Line2D at 0x15f3c5b3580>,\n",
       "  <matplotlib.lines.Line2D at 0x15f3c5c1730>,\n",
       "  <matplotlib.lines.Line2D at 0x15f3c5ceb50>],\n",
       " 'medians': [<matplotlib.lines.Line2D at 0x15f3c4e8fa0>,\n",
       "  <matplotlib.lines.Line2D at 0x15f3c5033d0>,\n",
       "  <matplotlib.lines.Line2D at 0x15f3c50d7c0>,\n",
       "  <matplotlib.lines.Line2D at 0x15f3c51bbb0>,\n",
       "  <matplotlib.lines.Line2D at 0x15f3c529fa0>,\n",
       "  <matplotlib.lines.Line2D at 0x15f3c5423d0>,\n",
       "  <matplotlib.lines.Line2D at 0x15f3c54e7c0>,\n",
       "  <matplotlib.lines.Line2D at 0x15f3c55abb0>,\n",
       "  <matplotlib.lines.Line2D at 0x15f3c567fa0>,\n",
       "  <matplotlib.lines.Line2D at 0x15f3c5803d0>,\n",
       "  <matplotlib.lines.Line2D at 0x15f3c58b7c0>,\n",
       "  <matplotlib.lines.Line2D at 0x15f3c59bbb0>,\n",
       "  <matplotlib.lines.Line2D at 0x15f3c5a6fa0>,\n",
       "  <matplotlib.lines.Line2D at 0x15f3c5c1370>,\n",
       "  <matplotlib.lines.Line2D at 0x15f3c5ce5b0>,\n",
       "  <matplotlib.lines.Line2D at 0x15f3c5dc9a0>],\n",
       " 'fliers': [<matplotlib.lines.Line2D at 0x15f3c4f32b0>,\n",
       "  <matplotlib.lines.Line2D at 0x15f3c5036a0>,\n",
       "  <matplotlib.lines.Line2D at 0x15f3c50da90>,\n",
       "  <matplotlib.lines.Line2D at 0x15f3c51be80>,\n",
       "  <matplotlib.lines.Line2D at 0x15f3c5332b0>,\n",
       "  <matplotlib.lines.Line2D at 0x15f3c5426a0>,\n",
       "  <matplotlib.lines.Line2D at 0x15f3c54ea90>,\n",
       "  <matplotlib.lines.Line2D at 0x15f3c55ae80>,\n",
       "  <matplotlib.lines.Line2D at 0x15f3c5752b0>,\n",
       "  <matplotlib.lines.Line2D at 0x15f3c5806a0>,\n",
       "  <matplotlib.lines.Line2D at 0x15f3c58ba90>,\n",
       "  <matplotlib.lines.Line2D at 0x15f3c59be80>,\n",
       "  <matplotlib.lines.Line2D at 0x15f3c5b32b0>,\n",
       "  <matplotlib.lines.Line2D at 0x15f3c5c1640>,\n",
       "  <matplotlib.lines.Line2D at 0x15f3c5ce880>,\n",
       "  <matplotlib.lines.Line2D at 0x15f3c5dcc70>],\n",
       " 'means': []}"
      ]
     },
     "execution_count": 37,
     "metadata": {},
     "output_type": "execute_result"
    },
    {
     "data": {
      "image/png": "[encoded data removed]",
      "text/plain": [
       "<Figure size 432x288 with 1 Axes>"
      ]
     },
     "metadata": {
      "needs_background": "light"
     },
     "output_type": "display_data"
    }
   ],
   "source": [
    "plt.boxplot(time_taken)"
   ]
  },
  {
   "cell_type": "code",
   "execution_count": 38,
   "id": "e8beb40e",
   "metadata": {},
   "outputs": [
    {
     "name": "stdout",
     "output_type": "stream",
     "text": [
      "[[0.16592564 0.25429432]\n",
      " [0.17164651 0.20610108]\n",
      " [0.14715312 0.1532433 ]\n",
      " [0.11920168 0.19905647]\n",
      " [0.15285858 0.18009218]\n",
      " [0.11878771 0.15449159]\n",
      " [0.10256524 0.13363059]]\n"
     ]
    }
   ],
   "source": [
    "# g) Training and validation NRMSE obtained using gradient descent with max_iter [2]\n",
    "max_iter=np.array([5,10,100,500,1000,1500,2000])\n",
    "NRMSE=np.zeros([max_iter.shape[0],2])\n",
    "for i in range(max_iter.shape[0]):\n",
    "    \n",
    "    # because of avoiding \"SyntaxError: positional argument follows keyword argument\" we have to predefine the value of \n",
    "    # max_iteration and store it in another value. While calling the function we can simply put max_iter=maxit\n",
    "    maxit=max_iter[i]\n",
    "    \n",
    "    # Generating the weight, bias, noise and data\n",
    "    weight1,w0_bias,v_noise,data=gen_input(sample=1000,dimension=20)\n",
    "    target=gen_dep(data,weight1,w0_bias,v_noise)\n",
    "    \n",
    "    #splitting the data into training and validation\n",
    "    train_tar_set=target[0:np.int32(np.round(0.75*target.shape[0])),:]\n",
    "    val_tar_set=target[np.int32(np.round(0.75*target.shape[0]))+1:np.int32(np.round(0.85*target.shape[0])),:]\n",
    "    train_set=data[0:np.int32(np.round(0.75*data.shape[0])),:]\n",
    "    val_set=data[np.int32(np.round(0.75*data.shape[0]))+1:np.int32(np.round(0.85*data.shape[0])),:]\n",
    "    \n",
    "    # estimation of the weight and prediction for training data\n",
    "    weight,predicted_y,NRMSE1=linear_reg_w(train_set,train_tar_set,lam2=0, lam1=0,eta=0.0001, max_iter=maxit, min_change_NRMSE=1e-6)\n",
    "    NRMSE[i,0]=NRMSE1\n",
    "    \n",
    "    # estimation of the weight and prediction for validation data\n",
    "    weight2,predicted_y2,NRMSE2=linear_reg_w(val_set,val_tar_set,lam2=0, lam1=0,eta=0.0001, max_iter=maxit, min_change_NRMSE=1e-6)\n",
    "    NRMSE[i,1]=NRMSE2\n",
    "    \n",
    "    \n",
    "    del weight1,w0_bias,v_noise,data,weight,predicted_y,NRMSE1,NRMSE2,maxit\n",
    "print(NRMSE)"
   ]
  },
  {
   "cell_type": "markdown",
   "id": "87c2f061",
   "metadata": {},
   "source": [
    "### Comments [g]:\n",
    "Number of iterations has in-direct impact on NRMSE value of the model. As the iteration values increases the NRMSE values decreases and the accuracy increases. Also for higher number of iterations the fitting of the model gets better and accuracy of training and validation test get closer to each otehr. \n"
   ]
  },
  {
   "cell_type": "code",
   "execution_count": 39,
   "id": "0b37a043",
   "metadata": {},
   "outputs": [
    {
     "name": "stdout",
     "output_type": "stream",
     "text": [
      "[[0.05291556 0.06469915]\n",
      " [0.06916322 0.07339245]\n",
      " [0.17087182 0.18567415]\n",
      " [0.24239175 0.25040225]\n",
      " [0.06709947 0.08223507]\n",
      " [0.24387213 0.33707184]]\n"
     ]
    }
   ],
   "source": [
    "# h) Training and validation NRMSE obtained using gradient descent with eta [2]\n",
    "eta=np.array([0.1,0.001,0.0001,0.00001,0.000001,0.0000001])\n",
    "NRMSE=np.zeros([eta.shape[0],2])\n",
    "for i in range(eta.shape[0]):\n",
    "    \n",
    "    # because of avoiding \"SyntaxError: positional argument follows keyword argument\" we have to predefine the value of \n",
    "    # max_iteration and store it in another value. While calling the function we can simply put et=eta[i]\n",
    "    et=eta[i]\n",
    "    \n",
    "    # Generating the weight, bias, noise and data\n",
    "    weight1,w0_bias,v_noise,data=gen_input(sample=1000,dimension=4)\n",
    "    target=gen_dep(data,weight1,w0_bias,v_noise)\n",
    "    \n",
    "    #splitting the data into training and validation\n",
    "    train_tar_set=target[0:np.int32(np.round(0.75*target.shape[0])),:]\n",
    "    val_tar_set=target[np.int32(np.round(0.75*target.shape[0]))+1:np.int32(np.round(0.85*target.shape[0])),:]\n",
    "    train_set=data[0:np.int32(np.round(0.75*data.shape[0])),:]\n",
    "    val_set=data[np.int32(np.round(0.75*data.shape[0]))+1:np.int32(np.round(0.85*data.shape[0])),:]\n",
    "    \n",
    "    # estimation of the weight and prediction for training data\n",
    "    weight,predicted_y,NRMSE1=linear_reg_w(train_set,train_tar_set,lam2=0, lam1=0,eta=et, max_iter=1500, min_change_NRMSE=1e-6)\n",
    "    NRMSE[i,0]=NRMSE1\n",
    "    \n",
    "    # estimation of the weight and prediction for validation data\n",
    "    weight2,predicted_y2,NRMSE2=linear_reg_w(val_set,val_tar_set,lam2=0, lam1=0,eta=et, max_iter=1500, min_change_NRMSE=1e-6)\n",
    "    NRMSE[i,1]=NRMSE2\n",
    "    \n",
    "    \n",
    "    del weight1,w0_bias,v_noise,data,weight,predicted_y,NRMSE1,NRMSE2,et\n",
    "print(NRMSE)"
   ]
  },
  {
   "cell_type": "markdown",
   "id": "37fda44c",
   "metadata": {},
   "source": [
    "### Comments [h]:\n",
    "The eta value or learning rate can impact the NRMSE value but is also dependent on number of max iterations. We cannot find the optimal number of eta or max iteration independent of each other. As, I run the code in \"h\" section for different number of max iterations I got different eta values for optimal NRMSE. So, I used the optimal number of max iterations we found in section \"g\" and in that case the optimal eta=0.1. As the eta values decrease the NRMSE values increase and then decrease. But the different with optimal eta is high. "
   ]
  },
  {
   "cell_type": "code",
   "execution_count": 41,
   "id": "a20ddddf",
   "metadata": {},
   "outputs": [
    {
     "ename": "MemoryError",
     "evalue": "Unable to allocate 745. GiB for an array with shape (1000000, 100000) and data type float64",
     "output_type": "error",
     "traceback": [
      "\u001b[1;31m---------------------------------------------------------------------------\u001b[0m",
      "\u001b[1;31mMemoryError\u001b[0m                               Traceback (most recent call last)",
      "Input \u001b[1;32mIn [41]\u001b[0m, in \u001b[0;36m<cell line: 11>\u001b[1;34m()\u001b[0m\n\u001b[0;32m     11\u001b[0m \u001b[38;5;28;01mfor\u001b[39;00m s \u001b[38;5;129;01min\u001b[39;00m samples:\n\u001b[0;32m     12\u001b[0m     \u001b[38;5;28;01mfor\u001b[39;00m d \u001b[38;5;129;01min\u001b[39;00m dimension:\n\u001b[1;32m---> 13\u001b[0m         weight1,w0_bias,v_noise,data\u001b[38;5;241m=\u001b[39m\u001b[43mgen_input\u001b[49m\u001b[43m(\u001b[49m\u001b[43ms\u001b[49m\u001b[43m,\u001b[49m\u001b[43md\u001b[49m\u001b[43m)\u001b[49m\n\u001b[0;32m     14\u001b[0m         target\u001b[38;5;241m=\u001b[39mgen_dep(data,weight1,w0_bias,v_noise)\n\u001b[0;32m     15\u001b[0m         start_time \u001b[38;5;241m=\u001b[39m time\u001b[38;5;241m.\u001b[39mtime()\n",
      "Input \u001b[1;32mIn [4]\u001b[0m, in \u001b[0;36mgen_input\u001b[1;34m(sample, dimension)\u001b[0m\n\u001b[0;32m      5\u001b[0m \u001b[38;5;66;03m#for normalizing the noise value among different methods I have chosen to divide all the values by\u001b[39;00m\n\u001b[0;32m      6\u001b[0m \u001b[38;5;66;03m#the maximum value so the new values of v will me v/max(v)\u001b[39;00m\n\u001b[0;32m      7\u001b[0m v_noise\u001b[38;5;241m=\u001b[39mv_noise\u001b[38;5;241m/\u001b[39m\u001b[38;5;28mmax\u001b[39m(v_noise)\n\u001b[1;32m----> 8\u001b[0m data\u001b[38;5;241m=\u001b[39m\u001b[43mnp\u001b[49m\u001b[38;5;241;43m.\u001b[39;49m\u001b[43mrandom\u001b[49m\u001b[38;5;241;43m.\u001b[39;49m\u001b[43mrandn\u001b[49m\u001b[43m(\u001b[49m\u001b[43msample\u001b[49m\u001b[43m,\u001b[49m\u001b[43m \u001b[49m\u001b[43mdimension\u001b[49m\u001b[43m)\u001b[49m\n\u001b[0;32m      9\u001b[0m \u001b[38;5;28;01mreturn\u001b[39;00m (weight1,w0_bias,v_noise,data)\n",
      "File \u001b[1;32mmtrand.pyx:1243\u001b[0m, in \u001b[0;36mnumpy.random.mtrand.RandomState.randn\u001b[1;34m()\u001b[0m\n",
      "File \u001b[1;32mmtrand.pyx:1400\u001b[0m, in \u001b[0;36mnumpy.random.mtrand.RandomState.standard_normal\u001b[1;34m()\u001b[0m\n",
      "File \u001b[1;32m_common.pyx:598\u001b[0m, in \u001b[0;36mnumpy.random._common.cont\u001b[1;34m()\u001b[0m\n",
      "\u001b[1;31mMemoryError\u001b[0m: Unable to allocate 745. GiB for an array with shape (1000000, 100000) and data type float64"
     ]
    }
   ],
   "source": [
    "# i) Time taken to solve gradient descent with number of samples and number of variables and its breaking points [2]\n",
    "\n",
    "# Generate a range of data sets with varying numbers of samples and variables\n",
    "samples = [10, 100, 1000, 10000,100000,1000000]\n",
    "dimension = [10, 100, 1000, 10000,100000]\n",
    "\n",
    "# Initialize an empty list to store the time taken for each calculation\n",
    "time_taken = []\n",
    "\n",
    "# Loop through the data sets and calculate the gradient descent\n",
    "for s in samples:\n",
    "    for d in dimension:\n",
    "        weight1,w0_bias,v_noise,data=gen_input(s,d)\n",
    "        target=gen_dep(data,weight1,w0_bias,v_noise)\n",
    "        start_time = time.time()\n",
    "        weight,predicted_y,NRMSE1=linear_reg_w(train_set,train_tar_set,lam2=0, lam1=0,eta=0.0001, max_iter=1000,\n",
    "                                               min_change_NRMSE=1e-6)\n",
    "        end_time = time.time()\n",
    "        time_taken.append((s, d, end_time - start_time))\n",
    "\n",
    "# Print the time taken for each calculation\n",
    "print(time_taken)\n"
   ]
  },
  {
   "cell_type": "code",
   "execution_count": 43,
   "id": "97ba3429",
   "metadata": {},
   "outputs": [
    {
     "name": "stdout",
     "output_type": "stream",
     "text": [
      "[(1000000, 10, 0.04288601875305176), (1000000, 100, 0.05186104774475098), (1000000, 1000, 0.054852962493896484), (1000000, 10000, 0.041886329650878906), (1000000, 100000, 0.04288673400878906), (1000000, 1000000, 0.10372328758239746)]\n"
     ]
    }
   ],
   "source": [
    "# j) Time taken to solve gradient descent with number of variables and its breaking point [2]\n",
    "\n",
    "# specify the number of different variables\n",
    "dimension = [10, 100, 1000, 10000,100000,1000000]\n",
    "\n",
    "# Initialize an empty list to store the time taken for each calculation\n",
    "time_taken = []\n",
    "\n",
    "# Loop through the data sets and calculate the gradient descent\n",
    "for d in dimension:\n",
    "    weight1,w0_bias,v_noise,data=gen_input(10000,d)\n",
    "    target=gen_dep(data,weight1,w0_bias,v_noise)\n",
    "    start_time = time.time()\n",
    "    weight,predicted_y,NRMSE1=linear_reg_w(train_set,train_tar_set,lam2=0, lam1=0,eta=0.0001, max_iter=1000,\n",
    "                                            min_change_NRMSE=1e-6)\n",
    "    end_time = time.time()\n",
    "    time_taken.append((s, d, end_time - start_time))\n",
    "\n",
    "# Print the time taken for each calculation\n",
    "print(time_taken)\n",
    "\n"
   ]
  },
  {
   "cell_type": "code",
   "execution_count": 44,
   "id": "6dc401a0",
   "metadata": {},
   "outputs": [
    {
     "name": "stdout",
     "output_type": "stream",
     "text": [
      "[[1. 0.]]\n"
     ]
    }
   ],
   "source": [
    "# k) Training and validation NRMSE and number of nearly zero weights obtained using gradient descent with lambda2 [2]\n",
    "\n",
    "lamb_two=np.array([0.01,0.1,1,10,100])\n",
    "NRMSE=np.zeros([lamb_two.shape[0],2])\n",
    "for i in range(lamb_two.shape[0]):\n",
    "    \n",
    "    # because of avoiding \"SyntaxError: positional argument follows keyword argument\" we have to predefine the value of \n",
    "    # max_iteration and store it in another value. While calling the function we can simply put et=eta[i]\n",
    "    lam=lamb_two[i]\n",
    "    \n",
    "    # Generating the weight, bias, noise and data\n",
    "    weight1,w0_bias,v_noise,data=gen_input(sample=1000,dimension=4)\n",
    "    target=gen_dep(data,weight1,w0_bias,v_noise)\n",
    "    \n",
    "    #splitting the data into training and validation\n",
    "    train_tar_set=target[0:np.int32(np.round(0.75*target.shape[0])),:]\n",
    "    val_tar_set=target[np.int32(np.round(0.75*target.shape[0]))+1:np.int32(np.round(0.85*target.shape[0])),:]\n",
    "    train_set=data[0:np.int32(np.round(0.75*data.shape[0])),:]\n",
    "    val_set=data[np.int32(np.round(0.75*data.shape[0]))+1:np.int32(np.round(0.85*data.shape[0])),:]\n",
    "    \n",
    "    # estimation of the weight and prediction for training data\n",
    "    weight,predicted_y,NRMSE1=linear_reg_w(train_set,train_tar_set,lam2=lam, lam1=0,eta=0.001, max_iter=1000, min_change_NRMSE=1e-6)\n",
    "    NRMSE[i,0]=NRMSE1\n",
    "    \n",
    "    # estimation of the weight and prediction for validation data\n",
    "    weight2,predicted_y2,NRMSE2=linear_reg_w(val_set,val_tar_set,lam2=lam, lam1=0,eta=0.001, max_iter=1000, min_change_NRMSE=1e-6)\n",
    "    NRMSE[i,1]=NRMSE2\n",
    "    \n",
    "    \n",
    "    del weight1,w0_bias,v_noise,data,weight,predicted_y,NRMSE1,NRMSE2,lam\n",
    "\n",
    "\n",
    "# Counting number of NRMSE values which is closer to zero. In this case any number which is smaller than 0.1, we will\n",
    "# cosider it as closer to zero\n",
    "countt=np.zeros([1,2])\n",
    "countt[0,0]=np.count_nonzero(NRMSE[:,0]<0.1)\n",
    "countt[0,1]=np.count_nonzero(NRMSE[:,1]<0.1)\n",
    "print (countt)\n",
    " "
   ]
  },
  {
   "cell_type": "code",
   "execution_count": 45,
   "id": "6d006864",
   "metadata": {},
   "outputs": [
    {
     "name": "stdout",
     "output_type": "stream",
     "text": [
      "[[3. 3.]]\n"
     ]
    }
   ],
   "source": [
    "#l) Training and validation NRMSE and number of nearly zero weights obtained using gradient descent with lambda1 [2]\n",
    "\n",
    "lamb_one=np.array([0.01,0.1,1,10,100])\n",
    "NRMSE=np.zeros([lamb_one.shape[0],2])\n",
    "for i in range(lamb_one.shape[0]):\n",
    "    \n",
    "    # because of avoiding \"SyntaxError: positional argument follows keyword argument\" we have to predefine the value of \n",
    "    # max_iteration and store it in another value. While calling the function we can simply put et=eta[i]\n",
    "    lam=lamb_one[i]\n",
    "    \n",
    "    # Generating the weight, bias, noise and data\n",
    "    weight1,w0_bias,v_noise,data=gen_input(sample=1000,dimension=4)\n",
    "    target=gen_dep(data,weight1,w0_bias,v_noise)\n",
    "    \n",
    "    #splitting the data into training and validation\n",
    "    train_tar_set=target[0:np.int32(np.round(0.75*target.shape[0])),:]\n",
    "    val_tar_set=target[np.int32(np.round(0.75*target.shape[0]))+1:np.int32(np.round(0.85*target.shape[0])),:]\n",
    "    train_set=data[0:np.int32(np.round(0.75*data.shape[0])),:]\n",
    "    val_set=data[np.int32(np.round(0.75*data.shape[0]))+1:np.int32(np.round(0.85*data.shape[0])),:]\n",
    "    \n",
    "    # estimation of the weight and prediction for training data\n",
    "    weight,predicted_y,NRMSE1=linear_reg_w(train_set,train_tar_set,lam2=0, lam1=lam,eta=0.001, max_iter=1000, min_change_NRMSE=1e-6)\n",
    "    NRMSE[i,0]=NRMSE1\n",
    "    \n",
    "    # estimation of the weight and prediction for validation data\n",
    "    weight2,predicted_y2,NRMSE2=linear_reg_w(val_set,val_tar_set,lam2=0, lam1=lam,eta=0.001, max_iter=1000, min_change_NRMSE=1e-6)\n",
    "    NRMSE[i,1]=NRMSE2\n",
    "    \n",
    "    \n",
    "    del weight1,w0_bias,v_noise,data,weight,predicted_y,NRMSE1,NRMSE2,lam\n",
    "\n",
    "\n",
    "# Counting number of NRMSE values which is closer to zero. In this case any number which is smaller than 0.001, we will\n",
    "# cosider it as closer to zero\n",
    "countt=np.zeros([1,2])\n",
    "countt[0,0]=np.count_nonzero(NRMSE[:,0]<0.1)\n",
    "countt[0,1]=np.count_nonzero(NRMSE[:,1]<0.1)\n",
    "print (countt)\n"
   ]
  },
  {
   "cell_type": "code",
   "execution_count": 46,
   "id": "d79f9334",
   "metadata": {},
   "outputs": [],
   "source": [
    "# m) Training and validation NRMSE for optimal lambda2 with noise variance [2]\n",
    "\n",
    "# Re-writing the function of gradient descent with variance\n",
    "\n",
    "def linear_reg_noise(dt,t,noise, eta, max_iter, min_change_NRMSE,lam2, lam1):\n",
    "    n, d = dt.shape\n",
    "    weight = np.ones([d,1])\n",
    "    for i in range(max_iter):\n",
    "        y = dt.dot(weight)+noise\n",
    "        grad = (dt.T @ (y - t))/dt.shape[0] + lam2 * np.square(weight)  + lam1 * np.abs(weight)\n",
    "        weight -= eta * grad\n",
    "        NRMSE = np.sqrt(np.mean(np.square(y - t))) / (np.max(t) - np.min(t))\n",
    "        if NRMSE < min_change_NRMSE:\n",
    "            break\n",
    "    return weight,y, NRMSE"
   ]
  },
  {
   "cell_type": "code",
   "execution_count": 47,
   "id": "85951566",
   "metadata": {},
   "outputs": [
    {
     "name": "stderr",
     "output_type": "stream",
     "text": [
      "C:\\Users\\IIT BOMBAY\\AppData\\Local\\Temp\\ipykernel_2752\\2083073867.py:10: RuntimeWarning: overflow encountered in square\n",
      "  grad = (dt.T @ (y - t))/dt.shape[0] + lam2 * np.square(weight)  + lam1 * np.abs(weight)\n",
      "C:\\Users\\IIT BOMBAY\\AppData\\Local\\Temp\\ipykernel_2752\\2083073867.py:12: RuntimeWarning: overflow encountered in square\n",
      "  NRMSE = np.sqrt(np.mean(np.square(y - t))) / (np.max(t) - np.min(t))\n",
      "C:\\Users\\IIT BOMBAY\\AppData\\Local\\Temp\\ipykernel_2752\\2083073867.py:10: RuntimeWarning: invalid value encountered in multiply\n",
      "  grad = (dt.T @ (y - t))/dt.shape[0] + lam2 * np.square(weight)  + lam1 * np.abs(weight)\n"
     ]
    },
    {
     "name": "stdout",
     "output_type": "stream",
     "text": [
      "[[0.12334023]\n",
      " [0.12333478]\n",
      " [0.12328527]\n",
      " [0.12279848]\n",
      " [0.11868472]\n",
      " [0.1118667 ]\n",
      " [0.1461382 ]\n",
      " [0.16954201]\n",
      " [0.17870773]\n",
      " [       nan]\n",
      " [       nan]]\n"
     ]
    },
    {
     "data": {
      "text/plain": [
       "[<matplotlib.lines.Line2D at 0x15f3c7ba340>]"
      ]
     },
     "execution_count": 47,
     "metadata": {},
     "output_type": "execute_result"
    },
    {
     "data": {
      "image/png": "[encoded data removed]",
      "text/plain": [
       "<Figure size 432x288 with 1 Axes>"
      ]
     },
     "metadata": {
      "needs_background": "light"
     },
     "output_type": "display_data"
    }
   ],
   "source": [
    "#finding the optimal lambda 2 value\n",
    "lambda2=np.array([0.000001,0.0001,0.001,0.01,0.1,1,10,100,1000,10000,100000])\n",
    "NRMSE=np.zeros([lambda2.shape[0],1])\n",
    "\n",
    "# Generating the weight, bias, noise and data\n",
    "weight1,w0_bias,v_noise,data=gen_input(sample=1000,dimension=4)\n",
    "target=gen_dep(data,weight1,w0_bias,v_noise)\n",
    "\n",
    "for i in range(lambda2.shape[0]):\n",
    "    lamm=lambda2[i]\n",
    "    w,y,NRMSE[i,0]=linear_reg_noise(data,target,v_noise, eta=0.001, max_iter=1000, min_change_NRMSE=0.005,lam2=lamm, lam1=0)\n",
    "    del w,y\n",
    "print(NRMSE)\n",
    "np.where(NRMSE==min(NRMSE))\n",
    "plt.plot(lambda2,NRMSE)"
   ]
  },
  {
   "cell_type": "code",
   "execution_count": 48,
   "id": "ef03a3f4",
   "metadata": {},
   "outputs": [
    {
     "name": "stdout",
     "output_type": "stream",
     "text": [
      "[[0.13318921 0.13695542]]\n"
     ]
    }
   ],
   "source": [
    "# the optimal lambda2 for the case above is 1000. so, we take lambda 2 as 1000. \n",
    "\n",
    "NRMSE=np.zeros([1,2])    \n",
    "    \n",
    "#splitting the data into training and validation\n",
    "train_tar_set=target[0:np.int32(np.round(0.75*target.shape[0])),:]\n",
    "val_tar_set=target[np.int32(np.round(0.75*target.shape[0]))+1:np.int32(np.round(0.85*target.shape[0])),:]\n",
    "train_set=data[0:np.int32(np.round(0.75*data.shape[0])),:]\n",
    "val_set=data[np.int32(np.round(0.75*data.shape[0]))+1:np.int32(np.round(0.85*data.shape[0])),:]\n",
    "    \n",
    "# estimation of the weight and prediction for training data\n",
    "weight,predicted_y,NRMSE1=linear_reg_noise(train_set,train_tar_set,noise[:750,:], eta=0.001, max_iter=1000, min_change_NRMSE=0.005,lam2=1, lam1=0)\n",
    "NRMSE[0,0]=NRMSE1\n",
    "    \n",
    "# estimation of the weight and prediction for validation data\n",
    "weight2,predicted_y2,NRMSE2=linear_reg_noise(val_set,val_tar_set,noise[750:849,:], eta=0.001, max_iter=1000, min_change_NRMSE=0.005,lam2=1, lam1=0)\n",
    "NRMSE[0,1]=NRMSE2\n",
    "    \n",
    "    \n",
    "del weight1,w0_bias,v_noise,data,weight,predicted_y,NRMSE1,NRMSE2\n",
    "print(NRMSE)"
   ]
  },
  {
   "cell_type": "code",
   "execution_count": 49,
   "id": "94f24def",
   "metadata": {},
   "outputs": [
    {
     "name": "stdout",
     "output_type": "stream",
     "text": [
      "[[0.12628834]\n",
      " [0.12628206]\n",
      " [0.12622503]\n",
      " [0.12566399]\n",
      " [0.12094905]\n",
      " [0.12520782]\n",
      " [0.1869219 ]\n",
      " [0.19800059]\n",
      " [       nan]\n",
      " [       nan]\n",
      " [       nan]]\n"
     ]
    },
    {
     "name": "stderr",
     "output_type": "stream",
     "text": [
      "C:\\Users\\IIT BOMBAY\\anaconda3\\lib\\site-packages\\numpy\\core\\_methods.py:179: RuntimeWarning: overflow encountered in reduce\n",
      "  ret = umr_sum(arr, axis, dtype, out, keepdims, where=where)\n",
      "C:\\Users\\IIT BOMBAY\\AppData\\Local\\Temp\\ipykernel_2752\\2083073867.py:12: RuntimeWarning: overflow encountered in square\n",
      "  NRMSE = np.sqrt(np.mean(np.square(y - t))) / (np.max(t) - np.min(t))\n",
      "C:\\Users\\IIT BOMBAY\\AppData\\Local\\Temp\\ipykernel_2752\\2083073867.py:10: RuntimeWarning: overflow encountered in square\n",
      "  grad = (dt.T @ (y - t))/dt.shape[0] + lam2 * np.square(weight)  + lam1 * np.abs(weight)\n",
      "C:\\Users\\IIT BOMBAY\\AppData\\Local\\Temp\\ipykernel_2752\\2083073867.py:10: RuntimeWarning: invalid value encountered in multiply\n",
      "  grad = (dt.T @ (y - t))/dt.shape[0] + lam2 * np.square(weight)  + lam1 * np.abs(weight)\n"
     ]
    },
    {
     "data": {
      "text/plain": [
       "[<matplotlib.lines.Line2D at 0x15f407589d0>]"
      ]
     },
     "execution_count": 49,
     "metadata": {},
     "output_type": "execute_result"
    },
    {
     "data": {
      "image/png": "[encoded data removed]",
      "text/plain": [
       "<Figure size 432x288 with 1 Axes>"
      ]
     },
     "metadata": {
      "needs_background": "light"
     },
     "output_type": "display_data"
    }
   ],
   "source": [
    "# n) Training and validation NRMSE for optimal lambda1 with noise variance [2]\n",
    "\n",
    "#finding the optimal lambda 2 value\n",
    "lambda1=np.array([0.000001,0.0001,0.001,0.01,0.1,1,10,100,1000,10000,100000])\n",
    "NRMSE=np.zeros([lambda1.shape[0],1])\n",
    "\n",
    "# Generating the weight, bias, noise and data\n",
    "weight1,w0_bias,v_noise,data=gen_input(sample=1000,dimension=4)\n",
    "target=gen_dep(data,weight1,w0_bias,v_noise)\n",
    "\n",
    "for i in range(lambda2.shape[0]):\n",
    "    lamm=lambda1[i]\n",
    "    w,y,NRMSE[i,0]=linear_reg_noise(data,target,v_noise, eta=0.001, max_iter=1000, min_change_NRMSE=0.005,lam2=0, lam1=lamm)\n",
    "    del w,y\n",
    "print(NRMSE)\n",
    "plt.plot(lambda1,NRMSE)\n"
   ]
  },
  {
   "cell_type": "code",
   "execution_count": 50,
   "id": "3382a44a",
   "metadata": {},
   "outputs": [
    {
     "name": "stdout",
     "output_type": "stream",
     "text": [
      "[[0.14084925 0.17153129]]\n"
     ]
    }
   ],
   "source": [
    "# the optimal lambda1 for the case above is 0.1. so, we take lambda 2 as 1000. \n",
    "\n",
    "NRMSE=np.zeros([1,2])    \n",
    "    \n",
    "#splitting the data into training and validation\n",
    "train_tar_set=target[0:np.int32(np.round(0.75*target.shape[0])),:]\n",
    "val_tar_set=target[np.int32(np.round(0.75*target.shape[0]))+1:np.int32(np.round(0.85*target.shape[0])),:]\n",
    "train_set=data[0:np.int32(np.round(0.75*data.shape[0])),:]\n",
    "val_set=data[np.int32(np.round(0.75*data.shape[0]))+1:np.int32(np.round(0.85*data.shape[0])),:]\n",
    "    \n",
    "# estimation of the weight and prediction for training data\n",
    "weight,predicted_y,NRMSE1=linear_reg_noise(train_set,train_tar_set,noise[:750,:], eta=0.001, max_iter=1000, min_change_NRMSE=0.005,lam2=0, lam1=0.1)\n",
    "NRMSE[0,0]=NRMSE1\n",
    "    \n",
    "# estimation of the weight and prediction for validation data\n",
    "weight2,predicted_y2,NRMSE2=linear_reg_noise(val_set,val_tar_set,noise[750:849,:], eta=0.001, max_iter=1000, min_change_NRMSE=0.005,lam2=0, lam1=0.1)\n",
    "NRMSE[0,1]=NRMSE2\n",
    "    \n",
    "    \n",
    "del weight1,w0_bias,v_noise,data,weight,predicted_y,NRMSE1,NRMSE2\n",
    "print(NRMSE)"
   ]
  },
  {
   "cell_type": "code",
   "execution_count": 51,
   "id": "551601cb",
   "metadata": {},
   "outputs": [
    {
     "ename": "MemoryError",
     "evalue": "Unable to allocate 745. GiB for an array with shape (100000, 1000000) and data type float64",
     "output_type": "error",
     "traceback": [
      "\u001b[1;31m---------------------------------------------------------------------------\u001b[0m",
      "\u001b[1;31mMemoryError\u001b[0m                               Traceback (most recent call last)",
      "Input \u001b[1;32mIn [51]\u001b[0m, in \u001b[0;36m<cell line: 12>\u001b[1;34m()\u001b[0m\n\u001b[0;32m     12\u001b[0m \u001b[38;5;28;01mfor\u001b[39;00m s \u001b[38;5;129;01min\u001b[39;00m samples:\n\u001b[0;32m     13\u001b[0m     \u001b[38;5;28;01mfor\u001b[39;00m d \u001b[38;5;129;01min\u001b[39;00m dimension:\n\u001b[1;32m---> 14\u001b[0m         weight1,w0_bias,v_noise,data\u001b[38;5;241m=\u001b[39m\u001b[43mgen_input\u001b[49m\u001b[43m(\u001b[49m\u001b[43ms\u001b[49m\u001b[43m,\u001b[49m\u001b[43md\u001b[49m\u001b[43m)\u001b[49m\n\u001b[0;32m     15\u001b[0m         target\u001b[38;5;241m=\u001b[39mgen_dep(data,weight1,w0_bias,v_noise)\n\u001b[0;32m     16\u001b[0m         start_time \u001b[38;5;241m=\u001b[39m time\u001b[38;5;241m.\u001b[39mtime()\n",
      "Input \u001b[1;32mIn [4]\u001b[0m, in \u001b[0;36mgen_input\u001b[1;34m(sample, dimension)\u001b[0m\n\u001b[0;32m      5\u001b[0m \u001b[38;5;66;03m#for normalizing the noise value among different methods I have chosen to divide all the values by\u001b[39;00m\n\u001b[0;32m      6\u001b[0m \u001b[38;5;66;03m#the maximum value so the new values of v will me v/max(v)\u001b[39;00m\n\u001b[0;32m      7\u001b[0m v_noise\u001b[38;5;241m=\u001b[39mv_noise\u001b[38;5;241m/\u001b[39m\u001b[38;5;28mmax\u001b[39m(v_noise)\n\u001b[1;32m----> 8\u001b[0m data\u001b[38;5;241m=\u001b[39m\u001b[43mnp\u001b[49m\u001b[38;5;241;43m.\u001b[39;49m\u001b[43mrandom\u001b[49m\u001b[38;5;241;43m.\u001b[39;49m\u001b[43mrandn\u001b[49m\u001b[43m(\u001b[49m\u001b[43msample\u001b[49m\u001b[43m,\u001b[49m\u001b[43m \u001b[49m\u001b[43mdimension\u001b[49m\u001b[43m)\u001b[49m\n\u001b[0;32m      9\u001b[0m \u001b[38;5;28;01mreturn\u001b[39;00m (weight1,w0_bias,v_noise,data)\n",
      "File \u001b[1;32mmtrand.pyx:1243\u001b[0m, in \u001b[0;36mnumpy.random.mtrand.RandomState.randn\u001b[1;34m()\u001b[0m\n",
      "File \u001b[1;32mmtrand.pyx:1400\u001b[0m, in \u001b[0;36mnumpy.random.mtrand.RandomState.standard_normal\u001b[1;34m()\u001b[0m\n",
      "File \u001b[1;32m_common.pyx:598\u001b[0m, in \u001b[0;36mnumpy.random._common.cont\u001b[1;34m()\u001b[0m\n",
      "\u001b[1;31mMemoryError\u001b[0m: Unable to allocate 745. GiB for an array with shape (100000, 1000000) and data type float64"
     ]
    }
   ],
   "source": [
    "# o) Experiment (f) but, this time with number of training samples and number of variables [2]\n",
    "\n",
    "# Generate a range of data sets with varying numbers of samples and variables\n",
    "\n",
    "samples = [10, 100, 1000, 10000,100000,1000000]\n",
    "dimension = [10, 100, 1000, 10000,100000,1000000]\n",
    "\n",
    "# Initialize an empty list to store the time taken for each calculation\n",
    "time_taken = []\n",
    "\n",
    "# Loop through the data sets and calculate the gradient descent\n",
    "for s in samples:\n",
    "    for d in dimension:\n",
    "        weight1,w0_bias,v_noise,data=gen_input(s,d)\n",
    "        target=gen_dep(data,weight1,w0_bias,v_noise)\n",
    "        start_time = time.time()\n",
    "        weight,predicted_y,NRMSE1=linear_reg_w(train_set,train_tar_set,lam2=0, lam1=0,eta=0.0001, max_iter=1000,\n",
    "                                               min_change_NRMSE=1e-6)\n",
    "        end_time = time.time()\n",
    "        time_taken.append((s, d, end_time - start_time))\n",
    "\n",
    "# Print the time taken for each calculation\n",
    "print(time_taken)"
   ]
  },
  {
   "cell_type": "markdown",
   "id": "8885e94f",
   "metadata": {},
   "source": [
    "# Overall understanding:\n",
    "using a function and understanding a function specially writing a function is totally different. I have used linear regression functions earlier in other problems which was available in libraries but this time my understanding from linear regression was much more deeper and it was a very good experience for me to first understand the mathematics behind all these models and then code them in Python. Now I am very confident about linear regression, gradient descent, pseudo inverse and regularization concepts. \n",
    "\n",
    "According to the analysis done in the above assignment Pseudo-inverse method was working better than Gradient-descent method in my case, while in can be not correct in general. Including W0 in the weight calculation of Pseudo-inverse method has a huge impact on accuracy of the method and it increases significantly. "
   ]
  },
  {
   "cell_type": "code",
   "execution_count": null,
   "id": "77548457",
   "metadata": {},
   "outputs": [],
   "source": []
  }
 ],
 "metadata": {
  "kernelspec": {
   "display_name": "Python 3 (ipykernel)",
   "language": "python",
   "name": "python3"
  },
  "language_info": {
   "codemirror_mode": {
    "name": "ipython",
    "version": 3
   },
   "file_extension": ".py",
   "mimetype": "text/x-python",
   "name": "python",
   "nbconvert_exporter": "python",
   "pygments_lexer": "ipython3",
   "version": "3.9.13"
  }
 },
 "nbformat": 4,
 "nbformat_minor": 5
}
